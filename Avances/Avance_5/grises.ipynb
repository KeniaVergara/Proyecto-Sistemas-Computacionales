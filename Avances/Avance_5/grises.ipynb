{
 "cells": [
  {
   "cell_type": "markdown",
   "metadata": {},
   "source": [
    "# Codigo para la conversion de imagenes en RGB a escala de grises"
   ]
  },
  {
   "cell_type": "code",
   "execution_count": 1,
   "metadata": {},
   "outputs": [
    {
     "name": "stdout",
     "output_type": "stream",
     "text": [
      "Se han convertido las imagenes a escala de grises\n"
     ]
    }
   ],
   "source": [
    "from PIL import Image   #importando el modulo\n",
    "\n",
    "for i in range(1, 16):                 #recorriendo las imagenes\n",
    "  foto = Image.open(str(i)+\".jpg\")     #abriendo imagen a color\n",
    "  datos = list(foto.getdata())         #guardando datos de colores de la imagen en una lista\n",
    "\n",
    "  #tomando el valor de los coeficientes de ITU-BT.709 para la conversion de la imagen en RGB a escala de grises\n",
    "  grises = [round((0.2125 * datos[x][0]) + (0.7154 * datos[x][1]) + (0.072 * datos[x][2])) for x in range(len(datos))]\n",
    "\n",
    "  imagen_gris = Image.new(\"L\", foto.size)     #creando la nueva imagen del tamaño de la imagen vieja  \n",
    "  imagen_gris.putdata(grises)                 #generando la imagen a escala de grises\n",
    "  imagen_gris.save(\"imagen%s.jpg\" % str(i))   #guardando la imagen con el nuevo nombre\n",
    "  foto.close()            #cerrando imagen a color\n",
    "  imagen_gris.close()     #cerrando imagen a escala de grises\n",
    "\n",
    "print(\"Se han convertido las imagenes a escala de grises\")"
   ]
  }
 ],
 "metadata": {
  "kernelspec": {
   "display_name": "Python 3",
   "language": "python",
   "name": "python3"
  },
  "language_info": {
   "codemirror_mode": {
    "name": "ipython",
    "version": 3
   },
   "file_extension": ".py",
   "mimetype": "text/x-python",
   "name": "python",
   "nbconvert_exporter": "python",
   "pygments_lexer": "ipython3",
   "version": "3.6.4"
  }
 },
 "nbformat": 4,
 "nbformat_minor": 2
}
